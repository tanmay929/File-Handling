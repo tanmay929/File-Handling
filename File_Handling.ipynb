{
  "nbformat": 4,
  "nbformat_minor": 0,
  "metadata": {
    "colab": {
      "provenance": []
    },
    "kernelspec": {
      "name": "python3",
      "display_name": "Python 3"
    },
    "language_info": {
      "name": "python"
    }
  },
  "cells": [
    {
      "cell_type": "code",
      "execution_count": null,
      "metadata": {
        "id": "TqjsBzn1H7C2"
      },
      "outputs": [],
      "source": []
    },
    {
      "cell_type": "markdown",
      "source": [
        "File Handling Assignment"
      ],
      "metadata": {
        "id": "RfsTOKVbIIP1"
      }
    },
    {
      "cell_type": "markdown",
      "source": [
        "1.What is the difference between interpreted and compiled languages?\n",
        " - Interpreted languages are executed line-by-line an interpreter.Python is an interpreted language,meaning the python code is executed directly without needing to be compiled into machine code beforehand.\n",
        "\n",
        " Compiled languages are first translated into machine code (binary code) by a compiler before execution.Languages like C and C++ are compiled languages.\n",
        "\n",
        "2.What is exception handling in Python?\n",
        " - Exception handling in Python refers to managing errors or exceptional conditons that arise during program excution.Python uses try,except,else,and finally blocks to handle evxeptions.\n",
        "\n",
        "3.What is the purpose of the finally block in exception handling?\n",
        " - The finally bolck is used to execute code that must run regardless of whether an exception occurred or not, such as releasing resources, closing files, or closing database connections.\n",
        "\n",
        " 4.What is logging in Python?\n",
        "  - Logging is a way to record information,warnings, and errors that occur in a progam.The logging module allows you to track events during the execution of a program,which helps in debugging and monitoring.It provides various log levels(e.g.,DEBUG,INFO,WARNING,ERROR,CRITICAL).\n",
        "\n",
        "5.What is the significance of the __del__ method in Python?\n",
        " - The del method is a special method used for object destruction. It is called when an object is about to be destroyed,typically when it goes out of scope or is deleted.Its commonly used for cleanup operations,like closing file or network connections.\n",
        "\n",
        "6.What is the difference between import and from ... import in Python?\n",
        " - import module_name : This import the entire module,and you need to reference the module by its name to access its functions or classes(e.g.,math.sqrt(16))\n",
        "\n",
        " from module_name import function_name : This imports only the specific function or class from a module,so you can use it directly without the module prefix(e.g.,sqrt(16)).\n",
        "\n",
        "7.How can you handle multiple exceptions in Python?\n",
        " - Multiple exceptions can be handled in Python by using multiple except blocks,or by specifing multiple exception types in a single except block (e.g.,except(TypeError,ValueError).\n",
        "\n",
        "8.What is the purpose of the with statement when handling files in Python?\n",
        " - The with statement simplifies file handling by automatically closing the file after it is used,even if an exception occurs. This ensures that resources are properly cleaned up.\n",
        "\n",
        "9.What is the difference between multithreading and multiprocessing?\n",
        " - Multithreding : Involves multiple threads within a single process. Thread share the same memory space and can run concurrently,but they are subject to Pythons Global Intrepreter Lock(GIL),limiting parallel execution in a CPU-bound tasks.\n",
        "\n",
        " Multiprocessing : Involves multiple processes with separate memory spaces. It allows for true parallelism,making it suitable for CPU-bound tasks.\n",
        "\n",
        "10.What are the advantages of using logging in a program?\n",
        " - Debugging : Hepls trace the flow of execution and identify issues.Error\n",
        "\n",
        " Reporting : Logs can report errors and provide detailed stack traces.\n",
        "\n",
        " Monitoring : Logs can track performance and behavior over time,helpful in production system\n",
        "\n",
        " Persistence : Logs can be stored in files,databases,or remote services for analysis.\n",
        "\n",
        " 11.What is memory management in Python?\n",
        "  - Python uses automatic memory management with a built-in garbage collection system that keeps track of and frees memory that is no longer in use.\n",
        "\n",
        "12.What are the basic steps involved in exception handling in Python?\n",
        " - Try block:Wrap the code that might raise an exception.\n",
        "\n",
        " Except block:Specify how to handle specific exceptions.\n",
        "\n",
        " Else block:Execute code if no exception is raised.\n",
        "\n",
        " Finally block:Execute cleanup code,regardless of exception status.\n",
        "\n",
        " 13.Why is memory management important in Python?\n",
        "  - Proper memory management ensures that programs are efficient and do not waste resources. Unused memory or memory leaks can slow down the system and lead to crashes. Python handle memory management automatically but still requires developers awareness to avoid excessive memory use.\n",
        "\n",
        "14.What is the role of try and except in exception handling?\n",
        " - The try block contains code that may raise an exeption. The except block catches and handles the exception if it occurs,preventing the program from crashing.\n",
        "\n",
        "15.How does Python's garbage collection system work?\n",
        " - Python uses reference counting and a cyclic garbage collector to manage memory. When an objects refrences count drop to zero (no longer in use),the memory is deallocated. The garbage collector handles circular references that reference counting alone cannot clean up.\n",
        "\n",
        "16.What is the purpose of the else block in exception handling?\n",
        " - The else block runs if no exception is raised in the try block. It execute code that should run when the try block completes successfully.\n",
        "\n",
        "17.What are the common logging levels in Python?\n",
        " - The logging module provides several levels of logging,from most detailed to least:\n",
        "\n",
        " DEBUG:Dtailed information,typically useful only for diagnosing problems.\n",
        "\n",
        " INFO:General information about program execution.\n",
        "\n",
        " WARNING:Indicates something unexpected ,but the program can continue.\n",
        "\n",
        " ERROR:Indicates a problem that prevents a function from working correctly.\n",
        "\n",
        " CRITICAL:A very serious error that may cause the program to crash.\n",
        "\n",
        " 18.What is the difference between os.fork() and multiprocessing in Python?\n",
        "  - os.fork():Creates a child process by duplicating the calling process.It's a low-level function and generally used in Unix-based system. It doesnot easily support Python's memory management and garbage collection mechanisms.\n",
        "\n",
        "  Multiprocessing:The multiprocessing module is a higher-level abstraction that allows spawing multiple processes with separate memory spaces. It is more flexible,portable,and supports better communication and synchronization between processes.\n",
        "\n",
        "19.What is the importance of closing a file in Python?\n",
        " - Releasing Resorces:When a file is opened,system resources(such as file handles)are used. Closing the file ensures that these resources are properly released,preventing potential memory leaks or issues when opening new files.\n",
        "\n",
        " Data Integrity:If a file is not closed,any buffered data may not be written to the disk,which can lead to data loss. Closing the file ensures that all changes are committed.\n",
        "\n",
        " File Locking:In some system,files may be locked when opened and closing them releases this lock,allowing other processes to access the file.\n",
        "\n",
        "20.What is the difference between file.read() and file.readline() in Python?\n",
        " - file.read():Reads the entire content of the file as a single string,including newlines. This is useful when you need to load the entire file content into memory.\n",
        "\n",
        " file.readline():Reads one line at a time from the file. It includes the newline character at the end of each line. It's useful for reading large files line by line, without loading the entire file into memory at once. python copy code.\n",
        "\n",
        "21.What is the logging module in Python used for?\n",
        " - The logging module in Python is used for tracking and recording events,errors,and other information during the execution of a program. It provides a way to log messages with different severity levels,such as:\n",
        "\n",
        " DEBUG:Dtailed information for debugging.\n",
        "\n",
        " INFO:General information about program's operation.\n",
        "\n",
        " WARNING:Warning about potential problems.\n",
        "\n",
        " ERROR:Errors that occurs during execution.\n",
        "\n",
        " CRITICAL:Severe errors that may prevent the program from continuing.\n",
        "\n",
        "22.What is the os module in Python used for in file handling?\n",
        " - The os module in Python provides a way to interact with the operating system and perform various file-handling operations. It allows you to:\n",
        "\n",
        " Navigate directories:Use functions like os.chdir(),os.listdir() to change directories,get the current directory,and list directory contents.\n",
        "\n",
        " File operations:Create,remove,and rename files using functions like os.remove(),os.rename(),and os.makedirs().\n",
        "\n",
        " File properties:Use os.stat() to get information about a file,such as size and modification time.\n",
        "\n",
        " Permissions:Change file permissions using os.chmod().\n",
        "\n",
        "23.What are the challenges associated with memory management in Python?\n",
        " - Garbage Collection:While Python has automated garbage collection,issues like circular references (objects referring to each other) can cause memory to not be freed as expected,leading to memory leaks.\n",
        "\n",
        " Memory Overhead: Python's memory management system adds some overhead due to features like dynamic typing and automatic reference counting,which can lead to higher memory usage compared to lower-level language.\n",
        "\n",
        " Large Data Structures:Handling large data sets(such as large list and dictionaries)can cause significant memory consuption,especially if they are not optimized.\n",
        "\n",
        " Limited Control:Python's memory management is abstracted away,so developers have limited control over the memory allocation and deallocation process,which may hinder optimization in certain cases.\n",
        "\n",
        "24.How do you raise an exception manually in Python?\n",
        " - In Python,exceptions can be raised manually using the raise statement. This is typically done when you want to signal an error condition in your program\n",
        "\n",
        "\n",
        "\n"
      ],
      "metadata": {
        "id": "OboPLPw6IN9s"
      }
    },
    {
      "cell_type": "code",
      "source": [
        "raise ValueError(\"This is a custome error message.\")"
      ],
      "metadata": {
        "id": "_i4ENzh1pPXC"
      },
      "execution_count": null,
      "outputs": []
    },
    {
      "cell_type": "markdown",
      "source": [
        "25.Why is it important to use multithreading in certain applications?\n",
        " - Multithreading allows a program to execute multiple tasks concurrently within a single process. It is particularly useful in scenarios where:\n",
        "\n",
        " Concurrency:Tasks such as network communication or user interface updates can run concurrently with other operations,improving the responsiveness of the application.\n",
        "\n",
        " I/O-bound tasks:Multithreding is ideal for I/O-bound tasks(e.g.,file reading/writing,web requests)beacuse while one thread waits for I/O operations to complete, other threads can continue executing.\n",
        "\n",
        " Real-time processing:Multithreding can be used for tasks that need to response in real-time,like monitoring systems or games that need to handle inputs or events in parallel with computation. However,multithreading in Python is limited by the Global Interpreter Lock(GIL),which restricts the concurrent execution of thread for CPU- bound tasks.For CPU-bound task,multiprocessing is typically a better choice"
      ],
      "metadata": {
        "id": "5k28K4M-pdXJ"
      }
    },
    {
      "cell_type": "code",
      "source": [
        "#1. How can you open a file for writing in Python and write a string to it?\n",
        "with open(\"example.txt\", \"w\") as file:\n",
        "    file.write(\"Hello, World!\")\n"
      ],
      "metadata": {
        "id": "mHPgCRYe_IpH"
      },
      "execution_count": 1,
      "outputs": []
    },
    {
      "cell_type": "code",
      "source": [
        "#2.Write a Python program to read the contents of a file and print each line.\n",
        "with open(\"example.txt\", \"r\") as file:\n",
        "    for line in file:\n",
        "        print(line.strip())\n"
      ],
      "metadata": {
        "id": "3xrAbjfD_iPC",
        "outputId": "eda7bc97-7025-4c59-8bc6-bb4b82ae3e44",
        "colab": {
          "base_uri": "https://localhost:8080/"
        }
      },
      "execution_count": 2,
      "outputs": [
        {
          "output_type": "stream",
          "name": "stdout",
          "text": [
            "Hello, World!\n"
          ]
        }
      ]
    },
    {
      "cell_type": "code",
      "source": [
        "#3.How would you handle a case where the file doesn't exist while trying to open it for reading?\n",
        "try:\n",
        "    with open(\"example.txt\", \"r\") as file:\n",
        "        for line in file:\n",
        "            print(line.strip())\n",
        "except FileNotFoundError:\n",
        "    print(\"Error: The file does not exist.\")\n"
      ],
      "metadata": {
        "id": "T3gPKwoTAOo1",
        "outputId": "cab0183a-e616-4032-dba0-4483040b124d",
        "colab": {
          "base_uri": "https://localhost:8080/"
        }
      },
      "execution_count": 3,
      "outputs": [
        {
          "output_type": "stream",
          "name": "stdout",
          "text": [
            "Hello, World!\n"
          ]
        }
      ]
    },
    {
      "cell_type": "code",
      "source": [
        "#4. Write a Python script that reads from one file and writes its content to another file?\n",
        "source_file = \"source.txt\"\n",
        "destination_file = \"destination.txt\"\n",
        "\n",
        "try:\n",
        "    with open(source_file, \"r\") as src:\n",
        "        content = src.read()\n",
        "    with open(destination_file, \"w\") as dest:\n",
        "        dest.write(content)\n",
        "\n",
        "    print(f\"Contents successfully copied from {source_file} to {destination_file}.\")\n",
        "except FileNotFoundError:\n",
        "    print(f\"Error: The file {source_file} does not exist.\")\n",
        "except Exception as e:\n",
        "    print(f\"An unexpected error occurred: {e}\")\n"
      ],
      "metadata": {
        "id": "AVbbvX38Ahc_",
        "outputId": "b3546a50-99e6-4c55-98eb-507139d79bf7",
        "colab": {
          "base_uri": "https://localhost:8080/"
        }
      },
      "execution_count": 4,
      "outputs": [
        {
          "output_type": "stream",
          "name": "stdout",
          "text": [
            "Error: The file source.txt does not exist.\n"
          ]
        }
      ]
    },
    {
      "cell_type": "code",
      "source": [
        "#5.How would you catch and handle division by zero error in Python?\n",
        "try:\n",
        "    result = 10 / 0\n",
        "except ZeroDivisionError:\n",
        "    print(\"Cannot divide by zero!\")\n",
        "\n"
      ],
      "metadata": {
        "id": "SkVWLcRVBIfG",
        "outputId": "dd352cbd-6cf2-4535-b214-f32d2489d839",
        "colab": {
          "base_uri": "https://localhost:8080/"
        }
      },
      "execution_count": 5,
      "outputs": [
        {
          "output_type": "stream",
          "name": "stdout",
          "text": [
            "Cannot divide by zero!\n"
          ]
        }
      ]
    },
    {
      "cell_type": "code",
      "source": [
        "#6.Write a Python program that logs an error message to a log file when a division by zero exception occurs?\n",
        "import logging\n",
        "logging.basicConfig(filename='app.log', level=logging.ERROR)\n",
        "\n",
        "try:\n",
        "  result = 10 / 0\n",
        "except ZeroDivisionError as e:\n",
        "  logging.error(f\"Error occurred: {e}\")"
      ],
      "metadata": {
        "id": "KAfwT75HBuKM",
        "outputId": "414b340c-80d3-4a99-c2cd-4874c2fa4b1f",
        "colab": {
          "base_uri": "https://localhost:8080/"
        }
      },
      "execution_count": 8,
      "outputs": [
        {
          "output_type": "stream",
          "name": "stderr",
          "text": [
            "ERROR:root:Error occurred: division by zero\n"
          ]
        }
      ]
    },
    {
      "cell_type": "code",
      "source": [
        "#7. How do you log information at different levels (INFO, ERROR, WARNING) in Python using the logging module?\n",
        "import logging\n",
        "\n",
        "logging.basicConfig(level=logging.DEBUG)\n",
        "\n",
        "logging.debug(\"This is a debug message.\")\n",
        "logging.info(\"This is an info message.\")\n",
        "logging.warning(\"This is a warning message.\")\n",
        "logging.error(\"This is an error message.\")\n",
        "logging.critical(\"This is a critical message.\")\n"
      ],
      "metadata": {
        "id": "cAb_BbcgCqZg",
        "outputId": "c8f0fa23-6981-46b0-c007-3b89f17f1d75",
        "colab": {
          "base_uri": "https://localhost:8080/"
        }
      },
      "execution_count": 9,
      "outputs": [
        {
          "output_type": "stream",
          "name": "stderr",
          "text": [
            "WARNING:root:This is a warning message.\n",
            "ERROR:root:This is an error message.\n",
            "CRITICAL:root:This is a critical message.\n"
          ]
        }
      ]
    },
    {
      "cell_type": "code",
      "source": [
        "#8. Write a program to handle a file opening error using exception handling?\n",
        "try:\n",
        "  with open('noneexistent_file.txt','r') as file:\n",
        "    content = file.read()\n",
        "except FileNotFoundError :\n",
        "  print(\"File could not be opened. It doesn't exist.\")\n",
        "except IOError:\n",
        "  print(\"An error occurred while opening the file.\")"
      ],
      "metadata": {
        "id": "YMpWguFvDUq7",
        "outputId": "a3e0e88f-e798-4ff3-b3d6-408785ffa3ab",
        "colab": {
          "base_uri": "https://localhost:8080/"
        }
      },
      "execution_count": 10,
      "outputs": [
        {
          "output_type": "stream",
          "name": "stdout",
          "text": [
            "File could not be opened. It doesn't exist.\n"
          ]
        }
      ]
    },
    {
      "cell_type": "code",
      "source": [
        "#9.How can you read a file line by line and store its content in a list in Python?\n",
        "file_path = \"example.txt\"\n",
        "\n",
        "try:\n",
        "    with open(file_path, \"r\") as file\n",
        "        lines = file.readlines()\n",
        "\n",
        "    lines = [line.strip() for line in lines]\n",
        "\n",
        "    print(\"Lines stored in the list:\")\n",
        "    print(lines)\n",
        "except FileNotFoundError:\n",
        "    print(f\"Error: The file '{file_path}' does not exist.\")\n",
        "except Exception as e:\n",
        "    print(f\"An unexpected error occurred: {e}\")\n"
      ],
      "metadata": {
        "id": "NbjHohLiHrSt",
        "outputId": "0e6de8e5-af7a-4d58-98cf-006180fdd5fd",
        "colab": {
          "base_uri": "https://localhost:8080/"
        }
      },
      "execution_count": 12,
      "outputs": [
        {
          "output_type": "stream",
          "name": "stdout",
          "text": [
            "Lines stored in the list:\n",
            "['Hello, World!']\n"
          ]
        }
      ]
    },
    {
      "cell_type": "code",
      "source": [
        "#10. How can you append data to an existing file in Python?\n",
        "with open('file.txt','a') as file:\n",
        "  file.write(\"This is new content appended to the file.\\n\")\n"
      ],
      "metadata": {
        "id": "VvZfgN3YIbXu"
      },
      "execution_count": 13,
      "outputs": []
    },
    {
      "cell_type": "code",
      "source": [
        "#11.Write a Python program that uses a try-except block to handle an error when attempting to access a\n",
        "#dictionary key that doesn't exist?\n",
        "my_dict = {'key1' : 'value1'}\n",
        "\n",
        "try:\n",
        "  value = my_dict['nonexistent_key']\n",
        "except KeyError:\n",
        "  print(\"The key does not exist in the dictionary.\")"
      ],
      "metadata": {
        "id": "DU3IFnYuJsXL",
        "outputId": "c489a11a-536b-4183-97e5-c436c2696f0a",
        "colab": {
          "base_uri": "https://localhost:8080/"
        }
      },
      "execution_count": 14,
      "outputs": [
        {
          "output_type": "stream",
          "name": "stdout",
          "text": [
            "The key does not exist in the dictionary.\n"
          ]
        }
      ]
    },
    {
      "cell_type": "code",
      "source": [
        "#12. Write a program that demonstrates using multiple except blocks to handle different types of exceptions?\n",
        "def handle_exceptions():\n",
        "    try:\n",
        "        num1 = int(input(\"Enter the first number: \"))\n",
        "        num2 = int(input(\"Enter the second number: \"))\n",
        "        result = num1 / num2\n",
        "        print(f\"The result of {num1} divided by {num2} is: {result}\")\n",
        "\n",
        "    except ValueError:\n",
        "        print(\"Error: Please enter valid integer numbers.\")\n",
        "\n",
        "    except ZeroDivisionError:\n",
        "        print(\"Error: Cannot divide by zero.\")\n",
        "\n",
        "    except Exception as e:\n",
        "        print(f\"An unexpected error occurred: {e}\")\n"
      ],
      "metadata": {
        "id": "PKNxhgl9S-zb"
      },
      "execution_count": 16,
      "outputs": []
    },
    {
      "cell_type": "code",
      "source": [
        "#13.How would you check if a file exists before attempting to read it in Python?\n",
        "import os\n",
        "\n",
        "file_path = \"example.txt\"\n",
        "if os.path.exists(file_path):\n",
        "    try:\n",
        "        with open(file_path, \"r\") as file:\n",
        "            content = file.read()\n",
        "            print(\"File content:\")\n",
        "            print(content)\n",
        "    except Exception as e:\n",
        "        print(f\"An error occurred: {e}\")\n",
        "else:\n",
        "    print(f\"The file '{file_path}' does not exist.\")\n"
      ],
      "metadata": {
        "id": "GuBi9oP0TXym",
        "outputId": "c30c598c-ea68-4784-e094-1b65101bc0ff",
        "colab": {
          "base_uri": "https://localhost:8080/"
        }
      },
      "execution_count": 17,
      "outputs": [
        {
          "output_type": "stream",
          "name": "stdout",
          "text": [
            "File content:\n",
            "Hello, World!\n"
          ]
        }
      ]
    },
    {
      "cell_type": "code",
      "source": [
        "#14.Write a program that uses the logging module to log both informational and error messages?\n",
        "import logging\n",
        "\n",
        "logging.basicConfig(filename='app.log', level=logging.DEBUG)\n",
        "\n",
        "logging.info(\"This is an informational message.\")\n",
        "\n",
        "try:\n",
        "    result = 10 / 0\n",
        "except ZeroDivisionError as e:\n",
        "    logging.error(f\"An error occurred: {e}\")\n"
      ],
      "metadata": {
        "id": "iYwkRgr7Uyjj",
        "outputId": "4c5db3b3-ae6d-46b1-e2a1-5653a4f0399d",
        "colab": {
          "base_uri": "https://localhost:8080/"
        }
      },
      "execution_count": 18,
      "outputs": [
        {
          "output_type": "stream",
          "name": "stderr",
          "text": [
            "ERROR:root:An error occurred: division by zero\n"
          ]
        }
      ]
    },
    {
      "cell_type": "code",
      "source": [
        "#15.Write a Python program that prints the content of a file and handles the case when the file is empty?\n",
        "try:\n",
        "  with open('file.text','r') as file:\n",
        "    content = file.read()\n",
        "    if content:\n",
        "      print(content)\n",
        "    else:\n",
        "        print(\"The file is empty.\")\n",
        "except FileNotFoundError:\n",
        "  print(\"The file does not exist.\")"
      ],
      "metadata": {
        "id": "IzuHeDuIVu-r",
        "outputId": "2b24e184-b103-4d0b-dd9e-113d98020709",
        "colab": {
          "base_uri": "https://localhost:8080/"
        }
      },
      "execution_count": 20,
      "outputs": [
        {
          "output_type": "stream",
          "name": "stdout",
          "text": [
            "The file does not exist.\n"
          ]
        }
      ]
    },
    {
      "cell_type": "code",
      "source": [
        "from re import X\n",
        "#16.Demonstrate how to use memory profiling to check the memory usage of a small program.\n",
        "from memory_profiler import profile\n",
        "\n",
        "@profile\n",
        "def my_function():\n",
        "   x = [i for i in range (10000)]\n",
        "   return x\n",
        "my_function()"
      ],
      "metadata": {
        "id": "mYWblLwNWqE_",
        "outputId": "a441f3ac-e1be-4b7f-cf0d-a9ab251eea5a",
        "colab": {
          "base_uri": "https://localhost:8080/",
          "height": 384
        }
      },
      "execution_count": 22,
      "outputs": [
        {
          "output_type": "error",
          "ename": "ModuleNotFoundError",
          "evalue": "No module named 'memory_profiler'",
          "traceback": [
            "\u001b[0;31m---------------------------------------------------------------------------\u001b[0m",
            "\u001b[0;31mModuleNotFoundError\u001b[0m                       Traceback (most recent call last)",
            "\u001b[0;32m<ipython-input-22-c4ec305d035e>\u001b[0m in \u001b[0;36m<cell line: 3>\u001b[0;34m()\u001b[0m\n\u001b[1;32m      1\u001b[0m \u001b[0;32mfrom\u001b[0m \u001b[0mre\u001b[0m \u001b[0;32mimport\u001b[0m \u001b[0mX\u001b[0m\u001b[0;34m\u001b[0m\u001b[0;34m\u001b[0m\u001b[0m\n\u001b[1;32m      2\u001b[0m \u001b[0;31m#16.Demonstrate how to use memory profiling to check the memory usage of a small program.\u001b[0m\u001b[0;34m\u001b[0m\u001b[0;34m\u001b[0m\u001b[0m\n\u001b[0;32m----> 3\u001b[0;31m \u001b[0;32mfrom\u001b[0m \u001b[0mmemory_profiler\u001b[0m \u001b[0;32mimport\u001b[0m \u001b[0mprofile\u001b[0m\u001b[0;34m\u001b[0m\u001b[0;34m\u001b[0m\u001b[0m\n\u001b[0m\u001b[1;32m      4\u001b[0m \u001b[0;34m\u001b[0m\u001b[0m\n\u001b[1;32m      5\u001b[0m \u001b[0;34m@\u001b[0m\u001b[0mprofile\u001b[0m\u001b[0;34m\u001b[0m\u001b[0;34m\u001b[0m\u001b[0m\n",
            "\u001b[0;31mModuleNotFoundError\u001b[0m: No module named 'memory_profiler'",
            "",
            "\u001b[0;31m---------------------------------------------------------------------------\u001b[0;32m\nNOTE: If your import is failing due to a missing package, you can\nmanually install dependencies using either !pip or !apt.\n\nTo view examples of installing some common dependencies, click the\n\"Open Examples\" button below.\n\u001b[0;31m---------------------------------------------------------------------------\u001b[0m\n"
          ],
          "errorDetails": {
            "actions": [
              {
                "action": "open_url",
                "actionText": "Open Examples",
                "url": "/notebooks/snippets/importing_libraries.ipynb"
              }
            ]
          }
        }
      ]
    },
    {
      "cell_type": "code",
      "source": [
        "#17.Write a Python program to create and write a list of numbers to a file, one number per line?\n",
        "numbers = [1,2,3,4,5]\n",
        "with open('number.txt','w') as file:\n",
        "  for number in numbers:\n",
        "    file.write(f\"{number}\\n\")"
      ],
      "metadata": {
        "id": "BLTGQykVXHx6"
      },
      "execution_count": 23,
      "outputs": []
    },
    {
      "cell_type": "code",
      "source": [
        "#18.How would you implement a basic logging setup that logs to a file with rotation after 1MB?\n",
        "import logging\n",
        "from logging.handlers import RotatingFileHandler\n",
        "\n",
        "# Set up logging configuration\n",
        "log_file = \"app.log\"\n",
        "max_log_size = 1 * 1024 * 1024  # 1 MB\n",
        "backup_count = 3  # Number of backup log files to keep\n",
        "\n",
        "# Create a rotating file handler\n",
        "handler = RotatingFileHandler(log_file, maxBytes=max_log_size, backupCount=backup_count)\n",
        "\n",
        "# Set the logging format\n",
        "formatter = logging.Formatter('%(asctime)s - %(levelname)s - %(message)s')\n",
        "handler.setFormatter(formatter)\n",
        "\n",
        "# Create a logger and set the logging level\n",
        "logger = logging.getLogger()\n",
        "logger.setLevel(logging.DEBUG)\n",
        "\n",
        "# Add the rotating file handler to the logger\n",
        "logger.addHandler(handler)\n",
        "\n",
        "# Example log entries\n",
        "logger.debug(\"This is a debug message.\")\n",
        "logger.info(\"This is an informational message.\")\n",
        "logger.warning(\"This is a warning message.\")\n",
        "logger.error(\"This is an error message.\")\n",
        "logger.critical(\"This is a critical message.\")\n"
      ],
      "metadata": {
        "id": "c_pwceJbYf5n",
        "outputId": "8f40257b-18a6-41a5-8822-3c7bf470b1f2",
        "colab": {
          "base_uri": "https://localhost:8080/"
        }
      },
      "execution_count": 24,
      "outputs": [
        {
          "output_type": "stream",
          "name": "stderr",
          "text": [
            "DEBUG:root:This is a debug message.\n",
            "INFO:root:This is an informational message.\n",
            "WARNING:root:This is a warning message.\n",
            "ERROR:root:This is an error message.\n",
            "CRITICAL:root:This is a critical message.\n"
          ]
        }
      ]
    },
    {
      "cell_type": "code",
      "source": [
        "#19.Write a program that handles both IndexError and KeyError using a try-except block?\n",
        "my_list = [1, 2, 3]\n",
        "my_dict = {'a': 1, 'b': 2, 'c': 3}\n",
        "\n",
        "try:\n",
        "   print(f\"Accessing list element: {my_list[5]}\")\n",
        "   print(f\"Accessing dictionary value: {my_dict['d']}\")  # KeyError (key 'd' does not exist)\n",
        "\n",
        "except IndexError as e:\n",
        "   print(f\"IndexError occurred: {e}\")\n",
        "\n",
        "except KeyError as e:\n",
        "  print(f\"KeyError occurred: {e}\")\n"
      ],
      "metadata": {
        "id": "s9kIq3biYwk8",
        "outputId": "b04ba44e-1feb-4ece-da22-9fe1e38a8383",
        "colab": {
          "base_uri": "https://localhost:8080/"
        }
      },
      "execution_count": 28,
      "outputs": [
        {
          "output_type": "stream",
          "name": "stdout",
          "text": [
            "IndexError occurred: list index out of range\n"
          ]
        }
      ]
    },
    {
      "cell_type": "code",
      "source": [
        "#20.How would you open a file and read its contents using a context manager in Python?\n",
        "with open ('file.txt','r') as file:\n",
        "  content = file.read()\n",
        "  print(content)"
      ],
      "metadata": {
        "id": "qhfKQJdlZDMX",
        "outputId": "eadaaebe-18df-4673-9448-ece6205e0dad",
        "colab": {
          "base_uri": "https://localhost:8080/"
        }
      },
      "execution_count": 29,
      "outputs": [
        {
          "output_type": "stream",
          "name": "stdout",
          "text": [
            "This is new content appended to the file.\n",
            "\n"
          ]
        }
      ]
    },
    {
      "cell_type": "code",
      "source": [
        "#21.Write a Python program that reads a file and prints the number of occurrences of a specific word.\n",
        "def count_word_occurrences(file_path, target_word):\n",
        "    try:\n",
        "        # Open the file for reading\n",
        "        with open(file_path, 'r') as file:\n",
        "            content = file.read()  # Read the entire file content\n",
        "\n",
        "        # Count the occurrences of the target word\n",
        "        word_count = content.lower().split().count(target_word.lower())\n",
        "\n",
        "        print(f\"The word '{target_word}' occurs {word_count} times in the file.\")\n",
        "\n",
        "    except FileNotFoundError:\n",
        "        print(f\"Error: The file '{file_path}' does not exist.\")\n",
        "    except Exception as e:\n",
        "        print(f\"An unexpected error occurred: {e}\")\n",
        "\n",
        "# Example usage\n",
        "file_path = \"example.txt\"  # Replace with the path to your file\n",
        "target_word = \"python\"      # Word to count in the file\n",
        "count_word_occurrences(file_path, target_word)\n"
      ],
      "metadata": {
        "id": "Jo_bn8qfZ7WV",
        "outputId": "2ad6f052-57bf-4481-e314-0f932d25148b",
        "colab": {
          "base_uri": "https://localhost:8080/"
        }
      },
      "execution_count": 30,
      "outputs": [
        {
          "output_type": "stream",
          "name": "stdout",
          "text": [
            "The word 'python' occurs 0 times in the file.\n"
          ]
        }
      ]
    },
    {
      "cell_type": "code",
      "source": [
        "#22.How can you check if a file is empty before attempting to read its contents?\n",
        "import os\n",
        "\n",
        "def check_if_file_is_empty(file_path):\n",
        "    try:\n",
        "        # Check the size of the file\n",
        "        file_size = os.path.getsize(file_path)\n",
        "\n",
        "        if file_size == 0:\n",
        "            print(f\"The file '{file_path}' is empty.\")\n",
        "        else:\n",
        "            print(f\"The file '{file_path}' is not empty. Proceeding to read its content.\")\n",
        "            with open(file_path, 'r') as file:\n",
        "                content = file.read()\n",
        "                print(\"File content:\")\n",
        "                print(content)\n",
        "\n",
        "    except FileNotFoundError:\n",
        "        print(f\"Error: The file '{file_path}' does not exist.\")\n",
        "    except Exception as e:\n",
        "        print(f\"An unexpected error occurred: {e}\")\n",
        "\n",
        "# Example usage\n",
        "file_path = \"example.txt\"  # Replace with the path to your file\n",
        "check_if_file_is_empty(file_path)\n"
      ],
      "metadata": {
        "id": "OaR5VC7WaN4K",
        "outputId": "ee612e22-8428-47b8-e3db-f264e5141f64",
        "colab": {
          "base_uri": "https://localhost:8080/"
        }
      },
      "execution_count": 31,
      "outputs": [
        {
          "output_type": "stream",
          "name": "stdout",
          "text": [
            "The file 'example.txt' is not empty. Proceeding to read its content.\n",
            "File content:\n",
            "Hello, World!\n"
          ]
        }
      ]
    },
    {
      "cell_type": "code",
      "source": [
        "#23.Write a Python program that writes to a log file when an error occurs during file handling.\n",
        "import logging\n",
        "\n",
        "# Set up logging configuration\n",
        "logging.basicConfig(filename='file_handling_errors.log',\n",
        "                    level=logging.ERROR,  # Log errors and higher\n",
        "                    format='%(asctime)s - %(levelname)s - %(message)s')\n",
        "\n",
        "def read_file(file_path):\n",
        "    try:\n",
        "        with open(file_path, 'r') as file:\n",
        "            content = file.read()\n",
        "            print(content)\n",
        "    except FileNotFoundError:\n",
        "        logging.error(f\"File '{file_path}' not found.\")\n",
        "        print(f\"Error: The file '{file_path}' does not exist.\")\n",
        "    except PermissionError:\n",
        "        logging.error(f\"Permission denied when trying to access '{file_path}'.\")\n",
        "        print(f\"Error: Permission denied for '{file_path}'.\")\n",
        "    except Exception as e:\n",
        "        logging.error(f\"An unexpected error occurred while handling the file '{file_path}': {e}\")\n",
        "        print(f\"An unexpected error occurred: {e}\")\n",
        "\n",
        "def write_to_file(file_path, content):\n",
        "    try:\n",
        "        with open(file_path, 'w') as file:\n",
        "            file.write(content)\n",
        "            print(f\"Successfully wrote to '{file_path}'.\")\n",
        "    except PermissionError:\n",
        "        logging.error(f\"Permission denied when trying to write to '{file_path}'.\")\n",
        "        print(f\"Error: Permission denied for '{file_path}'.\")\n",
        "    except Exception as e:\n",
        "        logging.error(f\"An unexpected error occurred while writing to the file '{file_path}': {e}\")\n",
        "        print(f\"An unexpected error occurred: {e}\")\n",
        "\n",
        "# Example usage\n",
        "file_path = \"example.txt\"  # Replace with the path to your file\n",
        "content_to_write = \"This is an example content.\"\n",
        "\n",
        "write_to_file(file_path, content_to_write)\n",
        "read_file(file_path)\n"
      ],
      "metadata": {
        "id": "Kmm-5eaOaeLL",
        "outputId": "520f7e0c-edfc-44f7-a417-4c88b772bc79",
        "colab": {
          "base_uri": "https://localhost:8080/"
        }
      },
      "execution_count": 32,
      "outputs": [
        {
          "output_type": "stream",
          "name": "stdout",
          "text": [
            "Successfully wrote to 'example.txt'.\n",
            "This is an example content.\n"
          ]
        }
      ]
    },
    {
      "cell_type": "code",
      "source": [],
      "metadata": {
        "id": "wyeswKSAarmk"
      },
      "execution_count": null,
      "outputs": []
    }
  ]
}